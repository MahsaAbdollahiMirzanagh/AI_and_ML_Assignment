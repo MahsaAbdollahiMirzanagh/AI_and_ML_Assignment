{
 "cells": [
  {
   "cell_type": "markdown",
   "metadata": {},
   "source": [
    "##Honey Production\n",
    "\n",
    "In this project, we delve into the critical situation facing honeybees, essential pollinators for agricultural ecosystems. Media reports often underscore the alarming decline in honeybee populations attributed to diverse factors. Our objective is to investigate this decline by examining historical trends, thereby gaining insights into the future trajectory of honeybee populations.\n",
    "\n",
    "The dataset utilized for this analysis is sourced from Kaggle and is provided alongside the notebook for reference."
   ]
  },
  {
   "cell_type": "code",
   "execution_count": 51,
   "metadata": {},
   "outputs": [],
   "source": [
    "# loading initial libraries\n",
    "import pandas as pd\n",
    "import matplotlib.pyplot as plt"
   ]
  },
  {
   "cell_type": "code",
   "execution_count": 52,
   "metadata": {},
   "outputs": [
    {
     "data": {
      "text/html": [
       "<div>\n",
       "<style scoped>\n",
       "    .dataframe tbody tr th:only-of-type {\n",
       "        vertical-align: middle;\n",
       "    }\n",
       "\n",
       "    .dataframe tbody tr th {\n",
       "        vertical-align: top;\n",
       "    }\n",
       "\n",
       "    .dataframe thead th {\n",
       "        text-align: right;\n",
       "    }\n",
       "</style>\n",
       "<table border=\"1\" class=\"dataframe\">\n",
       "  <thead>\n",
       "    <tr style=\"text-align: right;\">\n",
       "      <th></th>\n",
       "      <th>state</th>\n",
       "      <th>numcol</th>\n",
       "      <th>yieldpercol</th>\n",
       "      <th>totalprod</th>\n",
       "      <th>stocks</th>\n",
       "      <th>priceperlb</th>\n",
       "      <th>prodvalue</th>\n",
       "      <th>year</th>\n",
       "    </tr>\n",
       "  </thead>\n",
       "  <tbody>\n",
       "    <tr>\n",
       "      <th>0</th>\n",
       "      <td>AL</td>\n",
       "      <td>16000.0</td>\n",
       "      <td>71</td>\n",
       "      <td>1136000.0</td>\n",
       "      <td>159000.0</td>\n",
       "      <td>0.72</td>\n",
       "      <td>818000.0</td>\n",
       "      <td>1998</td>\n",
       "    </tr>\n",
       "    <tr>\n",
       "      <th>1</th>\n",
       "      <td>AZ</td>\n",
       "      <td>55000.0</td>\n",
       "      <td>60</td>\n",
       "      <td>3300000.0</td>\n",
       "      <td>1485000.0</td>\n",
       "      <td>0.64</td>\n",
       "      <td>2112000.0</td>\n",
       "      <td>1998</td>\n",
       "    </tr>\n",
       "    <tr>\n",
       "      <th>2</th>\n",
       "      <td>AR</td>\n",
       "      <td>53000.0</td>\n",
       "      <td>65</td>\n",
       "      <td>3445000.0</td>\n",
       "      <td>1688000.0</td>\n",
       "      <td>0.59</td>\n",
       "      <td>2033000.0</td>\n",
       "      <td>1998</td>\n",
       "    </tr>\n",
       "    <tr>\n",
       "      <th>3</th>\n",
       "      <td>CA</td>\n",
       "      <td>450000.0</td>\n",
       "      <td>83</td>\n",
       "      <td>37350000.0</td>\n",
       "      <td>12326000.0</td>\n",
       "      <td>0.62</td>\n",
       "      <td>23157000.0</td>\n",
       "      <td>1998</td>\n",
       "    </tr>\n",
       "    <tr>\n",
       "      <th>4</th>\n",
       "      <td>CO</td>\n",
       "      <td>27000.0</td>\n",
       "      <td>72</td>\n",
       "      <td>1944000.0</td>\n",
       "      <td>1594000.0</td>\n",
       "      <td>0.70</td>\n",
       "      <td>1361000.0</td>\n",
       "      <td>1998</td>\n",
       "    </tr>\n",
       "  </tbody>\n",
       "</table>\n",
       "</div>"
      ],
      "text/plain": [
       "  state    numcol  yieldpercol   totalprod      stocks  priceperlb  \\\n",
       "0    AL   16000.0           71   1136000.0    159000.0        0.72   \n",
       "1    AZ   55000.0           60   3300000.0   1485000.0        0.64   \n",
       "2    AR   53000.0           65   3445000.0   1688000.0        0.59   \n",
       "3    CA  450000.0           83  37350000.0  12326000.0        0.62   \n",
       "4    CO   27000.0           72   1944000.0   1594000.0        0.70   \n",
       "\n",
       "    prodvalue  year  \n",
       "0    818000.0  1998  \n",
       "1   2112000.0  1998  \n",
       "2   2033000.0  1998  \n",
       "3  23157000.0  1998  \n",
       "4   1361000.0  1998  "
      ]
     },
     "execution_count": 52,
     "metadata": {},
     "output_type": "execute_result"
    }
   ],
   "source": [
    "#loading the data\n",
    "df = pd.read_csv(\"./data.csv\",delimiter=\";\")\n",
    "#first five rows\n",
    "df.head()"
   ]
  },
  {
   "cell_type": "code",
   "execution_count": 53,
   "metadata": {},
   "outputs": [
    {
     "data": {
      "text/plain": [
       "array([1998, 1999, 2000, 2001, 2002, 2003, 2004, 2005, 2006, 2007, 2008,\n",
       "       2009, 2010, 2011, 2012], dtype=int64)"
      ]
     },
     "execution_count": 53,
     "metadata": {},
     "output_type": "execute_result"
    }
   ],
   "source": [
    "#finding out which years were given\n",
    "df.year.unique()"
   ]
  },
  {
   "cell_type": "code",
   "execution_count": 54,
   "metadata": {},
   "outputs": [],
   "source": [
    "#in which state we are predicting the production\n",
    "prod_per_year = df.groupby([\"state\",\"year\"]).totalprod.mean().reset_index()"
   ]
  },
  {
   "cell_type": "code",
   "execution_count": 55,
   "metadata": {},
   "outputs": [
    {
     "name": "stdout",
     "output_type": "stream",
     "text": [
      "15    1998\n",
      "16    1999\n",
      "17    2000\n",
      "18    2001\n",
      "19    2002\n",
      "20    2003\n",
      "21    2004\n",
      "22    2005\n",
      "23    2006\n",
      "24    2007\n",
      "25    2008\n",
      "26    2009\n",
      "27    2010\n",
      "28    2011\n",
      "29    2012\n",
      "Name: year, dtype: int64\n"
     ]
    }
   ],
   "source": [
    "#lets create the x and y columns for prediction\n",
    "#X = prod_per_year[\"state\"]\n",
    "X = prod_per_year[prod_per_year.state== \"AR\"][\"year\"]\n",
    "print(X)\n",
    "\n",
    "X = X.values.reshape(-1,1)\n",
    "#print(x)\n",
    "\n",
    "y = prod_per_year[prod_per_year.state== \"AR\"][\"totalprod\"]\n"
   ]
  },
  {
   "cell_type": "code",
   "execution_count": 56,
   "metadata": {},
   "outputs": [],
   "source": [
    "#prod_per_year\n",
    "#prod_per_year[prod_per_year.state== \"AR\"]"
   ]
  },
  {
   "cell_type": "code",
   "execution_count": 57,
   "metadata": {},
   "outputs": [
    {
     "data": {
      "image/png": "[encoded data removed]",
      "text/plain": [
       "<Figure size 640x480 with 1 Axes>"
      ]
     },
     "metadata": {},
     "output_type": "display_data"
    }
   ],
   "source": [
    "#taking AR as the state and making the figure of the total production in each year\n",
    "plt.xlabel(\"year\")\n",
    "plt.ylabel(\"Total production\")\n",
    "plt.scatter(X, y, color = \"b\", label = \"original\")\n",
    "plt.legend()\n",
    "plt.show()\n"
   ]
  },
  {
   "cell_type": "code",
   "execution_count": 58,
   "metadata": {},
   "outputs": [],
   "source": [
    "#making the linier regression model\n",
    "#loading the library\n",
    "from sklearn import linear_model\n",
    "Model= linear_model.LinearRegression()"
   ]
  },
  {
   "cell_type": "code",
   "execution_count": 59,
   "metadata": {},
   "outputs": [
    {
     "name": "stdout",
     "output_type": "stream",
     "text": [
      "slope of the line:  -250592.85714285713\n",
      "intercept of the line:  505249078.57142854\n"
     ]
    }
   ],
   "source": [
    "## fit the data\n",
    "Model.fit(X, y)\n",
    "print(\"slope of the line: \",Model.coef_[0])\n",
    "print(\"intercept of the line: \",Model.intercept_)"
   ]
  },
  {
   "cell_type": "code",
   "execution_count": 60,
   "metadata": {},
   "outputs": [],
   "source": [
    "#loading the initial library\n",
    "import numpy as np\n",
    "X_future = np.array(range(2013,2051))\n",
    "X_future = X_future.reshape(-1,1)"
   ]
  },
  {
   "cell_type": "code",
   "execution_count": 65,
   "metadata": {},
   "outputs": [
    {
     "data": {
      "image/png": "[encoded data removed]",
      "text/plain": [
       "<Figure size 640x480 with 1 Axes>"
      ]
     },
     "metadata": {},
     "output_type": "display_data"
    }
   ],
   "source": [
    "#predict the future total production\n",
    "future_predict = Model.predict(X_future)\n",
    "\n",
    "# prediction\n",
    "y_predict = Model.predict(X)\n",
    "\n",
    "#plot the prediction\n",
    "plt.xlabel(\"year\")\n",
    "plt.ylabel(\"Total production\")\n",
    "plt.scatter(X, y, color = \"b\", label = \"original\")\n",
    "plt.plot(X, y_predict, color = \"g\", label = \"fit\")\n",
    "plt.axhline(0)\n",
    "plt.grid()\n",
    "plt.scatter(X_future, future_predict, color = \"k\", label = \"prediction\")\n",
    "plt.show()"
   ]
  },
  {
   "cell_type": "code",
   "execution_count": 67,
   "metadata": {},
   "outputs": [
    {
     "name": "stdout",
     "output_type": "stream",
     "text": [
      "slope of the line: -250592.85714285713\n",
      "intercept of the line: 505249078.57142854\n"
     ]
    }
   ],
   "source": [
    "X = prod_per_year[prod_per_year.state==\"AR\"][\"year\"]\n",
    "X = X.values.reshape(-1,1)\n",
    "y = prod_per_year[prod_per_year.state==\"AR\"][\"totalprod\"] \n",
    "#fit the data\n",
    "Model.fit(X,y)\n",
    "\n",
    "print(\"slope of the line:\",Model.coef_[0])\n",
    "print(\"intercept of the line:\",Model.intercept_)\n"
   ]
  },
  {
   "cell_type": "code",
   "execution_count": 70,
   "metadata": {},
   "outputs": [],
   "source": [
    "#Examining it with the random state of 25\n",
    "from sklearn.model_selection import train_test_split\n",
    "X_train, X_test, y_train, y_test = train_test_split(X,y,train_size=0.8, random_state= 25)"
   ]
  },
  {
   "cell_type": "code",
   "execution_count": 71,
   "metadata": {},
   "outputs": [
    {
     "name": "stdout",
     "output_type": "stream",
     "text": [
      "slope of the line: -296826.0869565218\n",
      "intercept of the line: 598020945.6521741\n"
     ]
    }
   ],
   "source": [
    "#fiting the model\n",
    "Model.fit(X_train,y_train)\n",
    "print(\"slope of the line:\",Model.coef_[0])\n",
    "print(\"intercept of the line:\",Model.intercept_)"
   ]
  },
  {
   "cell_type": "code",
   "execution_count": 75,
   "metadata": {},
   "outputs": [
    {
     "name": "stdout",
     "output_type": "stream",
     "text": [
      "slope of the line: -209906.89281847718\n",
      "intercept of the line: 423500765.78852415\n"
     ]
    }
   ],
   "source": [
    "#Examining it with the random state of None\n",
    "X_train, X_test, y_train, y_test = train_test_split(X,y,train_size=0.8, random_state= None)\n",
    "Model.fit(X_train,y_train)\n",
    "print(\"slope of the line:\",Model.coef_[0])\n",
    "print(\"intercept of the line:\",Model.intercept_)"
   ]
  }
 ],
 "metadata": {
  "kernelspec": {
   "display_name": "Python 3",
   "language": "python",
   "name": "python3"
  },
  "language_info": {
   "codemirror_mode": {
    "name": "ipython",
    "version": 3
   },
   "file_extension": ".py",
   "mimetype": "text/x-python",
   "name": "python",
   "nbconvert_exporter": "python",
   "pygments_lexer": "ipython3",
   "version": "3.10.11"
  }
 },
 "nbformat": 4,
 "nbformat_minor": 2
}
